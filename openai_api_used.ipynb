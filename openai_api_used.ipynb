{
  "nbformat": 4,
  "nbformat_minor": 0,
  "metadata": {
    "colab": {
      "provenance": [],
      "authorship_tag": "ABX9TyMQdh3Do8tS47XLHOBnbwwl",
      "include_colab_link": true
    },
    "kernelspec": {
      "name": "python3",
      "display_name": "Python 3"
    },
    "language_info": {
      "name": "python"
    }
  },
  "cells": [
    {
      "cell_type": "markdown",
      "metadata": {
        "id": "view-in-github",
        "colab_type": "text"
      },
      "source": [
        "<a href=\"https://colab.research.google.com/github/junhyeok0703/NLP_class/blob/main/openai_api_used.ipynb\" target=\"_parent\"><img src=\"https://colab.research.google.com/assets/colab-badge.svg\" alt=\"Open In Colab\"/></a>"
      ]
    },
    {
      "cell_type": "code",
      "execution_count": 18,
      "metadata": {
        "id": "PSOc_v1OQuFu"
      },
      "outputs": [],
      "source": [
        "OPENAI_API_KEY = \"\" # 키값이 있으면 업로드 X"
      ]
    },
    {
      "cell_type": "code",
      "source": [
        "!pip install openai==0.28"
      ],
      "metadata": {
        "colab": {
          "base_uri": "https://localhost:8080/"
        },
        "id": "MsCTc4VZQ0Al",
        "outputId": "3aa232d3-e7da-4927-840b-58b786e11fab"
      },
      "execution_count": 1,
      "outputs": [
        {
          "output_type": "stream",
          "name": "stdout",
          "text": [
            "Collecting openai==0.28\n",
            "  Downloading openai-0.28.0-py3-none-any.whl.metadata (13 kB)\n",
            "Requirement already satisfied: requests>=2.20 in /usr/local/lib/python3.10/dist-packages (from openai==0.28) (2.32.3)\n",
            "Requirement already satisfied: tqdm in /usr/local/lib/python3.10/dist-packages (from openai==0.28) (4.66.6)\n",
            "Requirement already satisfied: aiohttp in /usr/local/lib/python3.10/dist-packages (from openai==0.28) (3.10.10)\n",
            "Requirement already satisfied: charset-normalizer<4,>=2 in /usr/local/lib/python3.10/dist-packages (from requests>=2.20->openai==0.28) (3.4.0)\n",
            "Requirement already satisfied: idna<4,>=2.5 in /usr/local/lib/python3.10/dist-packages (from requests>=2.20->openai==0.28) (3.10)\n",
            "Requirement already satisfied: urllib3<3,>=1.21.1 in /usr/local/lib/python3.10/dist-packages (from requests>=2.20->openai==0.28) (2.2.3)\n",
            "Requirement already satisfied: certifi>=2017.4.17 in /usr/local/lib/python3.10/dist-packages (from requests>=2.20->openai==0.28) (2024.8.30)\n",
            "Requirement already satisfied: aiohappyeyeballs>=2.3.0 in /usr/local/lib/python3.10/dist-packages (from aiohttp->openai==0.28) (2.4.3)\n",
            "Requirement already satisfied: aiosignal>=1.1.2 in /usr/local/lib/python3.10/dist-packages (from aiohttp->openai==0.28) (1.3.1)\n",
            "Requirement already satisfied: attrs>=17.3.0 in /usr/local/lib/python3.10/dist-packages (from aiohttp->openai==0.28) (24.2.0)\n",
            "Requirement already satisfied: frozenlist>=1.1.1 in /usr/local/lib/python3.10/dist-packages (from aiohttp->openai==0.28) (1.5.0)\n",
            "Requirement already satisfied: multidict<7.0,>=4.5 in /usr/local/lib/python3.10/dist-packages (from aiohttp->openai==0.28) (6.1.0)\n",
            "Requirement already satisfied: yarl<2.0,>=1.12.0 in /usr/local/lib/python3.10/dist-packages (from aiohttp->openai==0.28) (1.17.0)\n",
            "Requirement already satisfied: async-timeout<5.0,>=4.0 in /usr/local/lib/python3.10/dist-packages (from aiohttp->openai==0.28) (4.0.3)\n",
            "Requirement already satisfied: typing-extensions>=4.1.0 in /usr/local/lib/python3.10/dist-packages (from multidict<7.0,>=4.5->aiohttp->openai==0.28) (4.12.2)\n",
            "Requirement already satisfied: propcache>=0.2.0 in /usr/local/lib/python3.10/dist-packages (from yarl<2.0,>=1.12.0->aiohttp->openai==0.28) (0.2.0)\n",
            "Downloading openai-0.28.0-py3-none-any.whl (76 kB)\n",
            "\u001b[2K   \u001b[90m━━━━━━━━━━━━━━━━━━━━━━━━━━━━━━━━━━━━━━━━\u001b[0m \u001b[32m76.5/76.5 kB\u001b[0m \u001b[31m2.3 MB/s\u001b[0m eta \u001b[36m0:00:00\u001b[0m\n",
            "\u001b[?25hInstalling collected packages: openai\n",
            "  Attempting uninstall: openai\n",
            "    Found existing installation: openai 1.52.2\n",
            "    Uninstalling openai-1.52.2:\n",
            "      Successfully uninstalled openai-1.52.2\n",
            "Successfully installed openai-0.28.0\n"
          ]
        }
      ]
    },
    {
      "cell_type": "code",
      "source": [
        "import openai"
      ],
      "metadata": {
        "id": "I-msdYDwRxy7"
      },
      "execution_count": 19,
      "outputs": []
    },
    {
      "cell_type": "code",
      "source": [
        "# openai API 키 인증\n",
        "openai.api_key = OPENAI_API_KEY\n",
        "# 사용 가능한 모델 (2024-07월 초)\n",
        "# gpt-4o-2024-05-13\n",
        "# gpt-4o\n",
        "# gpt-4-turbo-preview\n",
        "# gpt-4-1106-preview\n",
        "# gpt-4-0613\n",
        "# gpt-4-0125-preview\n",
        "# gpt-4\n",
        "# gpt-3.5-turbo-16k\n",
        "# gpt-3.5-turbo-1106\n",
        "# gpt-3.5-burbo-0125\n",
        "# gpt-3.5-turbo\n",
        "model = \"gpt-3.5-turbo-0125\""
      ],
      "metadata": {
        "id": "KVYwyILGR1SY"
      },
      "execution_count": 20,
      "outputs": []
    },
    {
      "cell_type": "code",
      "source": [
        "# 질문 작성하기\n",
        "query = \"프랑스의 수도를 알려줘.\"\n",
        "# 메시지 설정하기\n",
        "messages = [{\n",
        "\"role\": \"user\",\n",
        "\"content\": query\n",
        "}]"
      ],
      "metadata": {
        "id": "OgDClmUdR30b"
      },
      "execution_count": 21,
      "outputs": []
    },
    {
      "cell_type": "code",
      "source": [
        "# ChatGPT API를 이용한 ChatGPT 사용하기\n",
        "response = openai.ChatCompletion.create(\n",
        "model=model,\n",
        "messages=messages\n",
        ")\n",
        "answer = response.choices[0].message.content\n",
        "print(answer)"
      ],
      "metadata": {
        "colab": {
          "base_uri": "https://localhost:8080/"
        },
        "id": "348Y_lKBR6oY",
        "outputId": "e7d551ec-b512-4f6d-f759-6b924fb3f77c"
      },
      "execution_count": 22,
      "outputs": [
        {
          "output_type": "stream",
          "name": "stdout",
          "text": [
            "프랑스의 수도는 파리(Paris)입니다. 파리는 프랑스의 정치, 경제, 문화, 미디어, 예술 및 패션 중심지로서 유명합니다. 또한 에펠탑, 루브르 박물관, 창원제리세 궁전 등 많은 유명한 명소가 있어 인기 있는 여행지입니다.\n"
          ]
        }
      ]
    },
    {
      "cell_type": "code",
      "source": [
        "# 메시지 설정하기\n",
        "messages = [{\n",
        "\"role\": \"system\",\n",
        "\"content\": \"You are a helpful assistant.\"\n",
        "}, {\n",
        "\"role\": \"user\",\n",
        "\"content\": query\n",
        "}]\n",
        "# ChatGPT API를 이용한 ChatGPT 사용하기\n",
        "response = openai.ChatCompletion.create(\n",
        "model=model,\n",
        "messages=messages\n",
        ")\n",
        "answer = response.choices[0].message.content\n",
        "print(answer)"
      ],
      "metadata": {
        "colab": {
          "base_uri": "https://localhost:8080/"
        },
        "id": "9p1qgd6fR8d_",
        "outputId": "0bc86d3a-ab7c-4741-e960-3b37c691e47b"
      },
      "execution_count": 9,
      "outputs": [
        {
          "output_type": "stream",
          "name": "stdout",
          "text": [
            "프랑스의 수도는 파리(Paris)입니다.\n"
          ]
        }
      ]
    },
    {
      "cell_type": "code",
      "source": [
        "messages = [{\n",
        "\"role\": \"system\",\n",
        "\"content\": \"You are a humorous assistant.\"\n",
        "}, {\n",
        "\"role\": \"user\",\n",
        "\"content\": query\n",
        "}]\n",
        "# ChatGPT API를 이용한 ChatGPT 사용하기\n",
        "response = openai.ChatCompletion.create(\n",
        "model=model,\n",
        "messages=messages\n",
        ")\n",
        "answer = response.choices[0].message.content\n",
        "print(answer)"
      ],
      "metadata": {
        "colab": {
          "base_uri": "https://localhost:8080/"
        },
        "id": "NLOcOpLSSRwS",
        "outputId": "76ca2907-233f-4c40-ab1c-ac48b8f340df"
      },
      "execution_count": 10,
      "outputs": [
        {
          "output_type": "stream",
          "name": "stdout",
          "text": [
            "프랑스의 수도는 파리야! 에펠탑과 시네마 등으로 유명한 곳이죠. 그리고 오예스! 파리승 파리승 파리승!\n"
          ]
        }
      ]
    },
    {
      "cell_type": "code",
      "source": [
        "# 메시지 설정하기\n",
        "messages = [{\n",
        "\"role\": \"system\",\n",
        "\"content\": \"You are a sarcasm assistant.\"\n",
        "}, {\n",
        "\"role\": \"user\",\n",
        "\"content\": query\n",
        "}]\n",
        "# ChatGPT API를 이용한 ChatGPT 사용하기\n",
        "response = openai.ChatCompletion.create(\n",
        "model=model,\n",
        "messages=messages\n",
        ")\n",
        "answer = response.choices[0].message.content\n",
        "print(answer)"
      ],
      "metadata": {
        "colab": {
          "base_uri": "https://localhost:8080/"
        },
        "id": "amDpu1jtSgcc",
        "outputId": "d7e32b86-ded9-4fcf-f7dd-b097e725baae"
      },
      "execution_count": 11,
      "outputs": [
        {
          "output_type": "stream",
          "name": "stdout",
          "text": [
            "네, 정말 찾아보지 않은 적이 있나요? 프랑스의 수도는 파리입니다.\n"
          ]
        }
      ]
    },
    {
      "cell_type": "code",
      "source": [
        "# 메시지 설정하기\n",
        "messages = [{\n",
        "\"role\": \"system\",\n",
        "\"content\": \"You are a pessimistic assistant.\"\n",
        "}, {\n",
        "\"role\": \"user\",\n",
        "\"content\": query\n",
        "}]\n",
        "# ChatGPT API를 이용한 ChatGPT 사용하기\n",
        "response = openai.ChatCompletion.create(\n",
        "model=model,\n",
        "messages=messages\n",
        ")\n",
        "answer = response.choices[0].message.content\n",
        "print(answer)"
      ],
      "metadata": {
        "colab": {
          "base_uri": "https://localhost:8080/"
        },
        "id": "gzBgOsu7SniN",
        "outputId": "21383051-ea98-47f9-f55e-8b89cd683943"
      },
      "execution_count": 23,
      "outputs": [
        {
          "output_type": "stream",
          "name": "stdout",
          "text": [
            "파리가 프랑스의 수도입니다. 하지만 그렇게 멋진 도시라고 말할 수는 없지요.\n"
          ]
        }
      ]
    },
    {
      "cell_type": "code",
      "source": [
        "# hello-gpt.py\n",
        "import os\n",
        "import openai\n",
        "# API KEY 입력\n",
        "openai.api_key = OPENAI_API_KEY\n",
        "# model 정의\n",
        "# model = 'gpt-3.5-turbo’\n",
        "# query 정의\n",
        "query = 'Hello, World!'\n",
        "# 대화 출력\n",
        "response = openai.ChatCompletion.create(\n",
        "model=model,\n",
        "messages=[{\"role\": \"user\", \"content\": query}],\n",
        ")\n",
        "print(response.choices[0].message.content)"
      ],
      "metadata": {
        "colab": {
          "base_uri": "https://localhost:8080/"
        },
        "id": "Gb2t6UysSqql",
        "outputId": "09ea10e9-7761-4059-b572-f6d13c3e42a7"
      },
      "execution_count": 15,
      "outputs": [
        {
          "output_type": "stream",
          "name": "stdout",
          "text": [
            "Hello! How can I assist you today?\n"
          ]
        }
      ]
    },
    {
      "cell_type": "code",
      "source": [
        "GEMINI_API_KEY = '' # 키값이 있으면 업로드 X\n",
        "# hello-gemini.py\n",
        "import os\n",
        "import google.generativeai as genai\n",
        "# API KEY 입력\n",
        "genai.configure(api_key=GEMINI_API_KEY)\n",
        "# 모델 정의\n",
        "model=\"gemini-1.5-flash\"\n",
        "# query 정의\n",
        "query = \"Hello, Wolrd!\"\n",
        "# 모델 정의\n",
        "model = genai.GenerativeModel(model)\n",
        "# 대화 출력\n",
        "response = model.generate_content(query)\n",
        "print(response.text)"
      ],
      "metadata": {
        "colab": {
          "base_uri": "https://localhost:8080/",
          "height": 88
        },
        "id": "i4GT7CBAS0UX",
        "outputId": "744545dc-c357-4a7d-e343-60a7cd01cb90"
      },
      "execution_count": 16,
      "outputs": [
        {
          "output_type": "stream",
          "name": "stdout",
          "text": [
            "Hello, World! \n",
            "\n",
            "It's great to connect with you. What can I do for you today? \n",
            "\n"
          ]
        }
      ]
    },
    {
      "cell_type": "code",
      "source": [],
      "metadata": {
        "id": "xs9_AoqUUhGg"
      },
      "execution_count": null,
      "outputs": []
    }
  ]
}